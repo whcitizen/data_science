{
 "cells": [
  {
   "cell_type": "markdown",
   "metadata": {},
   "source": [
    "This dataset is a part of the Office Dataset provided by Saenko et al.\n",
    "https://people.eecs.berkeley.edu/~jhoffman/domainadapt/\n",
    "[1] K. Saenko, B. Kulis, M. Fritz and T. Darrell, \"Adapting Visual Category Models to New Domains\" In Proc. ECCV, September 2010, Heraklion, Greece. "
   ]
  },
  {
   "cell_type": "code",
   "execution_count": null,
   "metadata": {
    "collapsed": true
   },
   "outputs": [],
   "source": [
    "import os\n",
    "import numpy as np\n",
    "import scipy.io as sio\n",
    "import sklearn.svm as sksvm"
   ]
  },
  {
   "cell_type": "markdown",
   "metadata": {},
   "source": [
    "There are 31 categories in this dataset."
   ]
  },
  {
   "cell_type": "code",
   "execution_count": null,
   "metadata": {},
   "outputs": [],
   "source": [
    "root_dir='./webcam/interest_points'\n",
    "classes=os.listdir(root_dir)\n",
    "print(classes)"
   ]
  },
  {
   "cell_type": "markdown",
   "metadata": {},
   "source": [
    "Load features (bag-of-words histogram) of each image and make training/validation splits."
   ]
  },
  {
   "cell_type": "code",
   "execution_count": null,
   "metadata": {
    "collapsed": true
   },
   "outputs": [],
   "source": [
    "ntrain=10\n",
    "train_feat,train_labels,val_feat,val_labels=[],[],[],[]\n",
    "for c,cls in enumerate(classes):\n",
    "    files=os.listdir(root_dir+'/'+cls)\n",
    "    for i,f in enumerate(files):\n",
    "        x=sio.loadmat(root_dir+'/'+cls+'/'+f)['histogram']\n",
    "        if i<ntrain:\n",
    "            train_feat.append(x)\n",
    "            train_labels.append(c)\n",
    "        else:\n",
    "            val_feat.append(x)\n",
    "            val_labels.append(c)"
   ]
  },
  {
   "cell_type": "code",
   "execution_count": null,
   "metadata": {
    "collapsed": true
   },
   "outputs": [],
   "source": [
    "train_feat=np.vstack(train_feat)\n",
    "val_feat=np.vstack(val_feat)\n",
    "train_feat=train_feat/np.sum(train_feat,axis=1).reshape(-1,1)  #normalize by the number of words\n",
    "val_feat=val_feat/np.sum(val_feat,axis=1).reshape(-1,1)"
   ]
  },
  {
   "cell_type": "markdown",
   "metadata": {},
   "source": [
    "Note that the sum of feature elements should be always one. (histogram)"
   ]
  },
  {
   "cell_type": "code",
   "execution_count": null,
   "metadata": {
    "scrolled": true
   },
   "outputs": [],
   "source": [
    "print(np.sum(val_feat,axis=1))"
   ]
  },
  {
   "cell_type": "markdown",
   "metadata": {},
   "source": [
    "Now, let's train a linear SVM classifier on raw features."
   ]
  },
  {
   "cell_type": "code",
   "execution_count": null,
   "metadata": {},
   "outputs": [],
   "source": [
    "clf = sksvm.LinearSVC(C=1000, random_state=0)\n",
    "clf.fit(train_feat, train_labels)"
   ]
  },
  {
   "cell_type": "code",
   "execution_count": null,
   "metadata": {
    "scrolled": false
   },
   "outputs": [],
   "source": [
    "pred=clf.predict(val_feat)\n",
    "acc=(np.sum(pred==val_labels)/len(val_labels))*100\n",
    "print('Accuracy: %f' % acc)"
   ]
  },
  {
   "cell_type": "markdown",
   "metadata": {},
   "source": [
    "Confirm that the kernel SVM with linear kernel produces a similar result."
   ]
  },
  {
   "cell_type": "code",
   "execution_count": null,
   "metadata": {},
   "outputs": [],
   "source": [
    "clf = sksvm.SVC(C=1000, kernel='linear',random_state=0)\n",
    "#clf = sksvm.SVC(C=1000, kernel='rbf',random_state=0)   #What about RBF kernel?\n",
    "clf.fit(train_feat, train_labels)\n",
    "pred=clf.predict(val_feat)\n",
    "acc=(np.sum(pred==val_labels)/len(val_labels))*100\n",
    "print('Accuracy: %f' % acc)"
   ]
  },
  {
   "cell_type": "markdown",
   "metadata": {},
   "source": [
    "Now, let's make a more appropriate kernel for this problem."
   ]
  },
  {
   "cell_type": "markdown",
   "metadata": {},
   "source": [
    "Exercise 1: Implement Bhattacharyya kernel"
   ]
  },
  {
   "cell_type": "code",
   "execution_count": null,
   "metadata": {
    "collapsed": true
   },
   "outputs": [],
   "source": [
    "def bc_gram(X1,X2):  #returns the Gram matrix \n",
    "    gramMat = np.zeros((X1.shape[0],X2.shape[0]))\n",
    "    for i in range(gramMat.shape[0]):\n",
    "        for j in range(gramMat.shape[1]):\n",
    "            ###TODO:\n",
    "            #gramMat[i,j] = \n",
    "    return gramMat"
   ]
  },
  {
   "cell_type": "code",
   "execution_count": null,
   "metadata": {
    "scrolled": false
   },
   "outputs": [],
   "source": [
    "clf = sksvm.SVC(C=1000, kernel='precomputed',random_state=0)\n",
    "clf.fit(bc_gram(train_feat,train_feat), train_labels)\n",
    "pred=clf.predict(bc_gram(val_feat,train_feat))\n",
    "acc=(np.sum(pred==val_labels)/len(val_labels))*100\n",
    "print('Accuracy: %f' % acc)"
   ]
  },
  {
   "cell_type": "markdown",
   "metadata": {},
   "source": [
    "Exercise 2: Implement the explicit feature map of Bhattacharyya kernel"
   ]
  },
  {
   "cell_type": "code",
   "execution_count": null,
   "metadata": {},
   "outputs": [],
   "source": [
    "###TODO:\n",
    "#train_sq=\n",
    "#val_sq=\n",
    "clf = sksvm.LinearSVC(C=1000, random_state=0)\n",
    "clf.fit(train_sq, train_labels)\n",
    "pred=clf.predict(val_sq)\n",
    "acc=(np.sum(pred==val_labels)/len(val_labels))*100\n",
    "print('Accuracy: %f' % acc)"
   ]
  },
  {
   "cell_type": "markdown",
   "metadata": {},
   "source": [
    "Exercise 3: Implement chi-square kernel"
   ]
  },
  {
   "cell_type": "code",
   "execution_count": null,
   "metadata": {
    "collapsed": true
   },
   "outputs": [],
   "source": [
    "def chi_gram(X1,X2):\n",
    "    gramMat = np.zeros((X1.shape[0],X2.shape[0]))\n",
    "    for i in range(gramMat.shape[0]):\n",
    "        for j in range(gramMat.shape[1]):\n",
    "            ###TODO:\n",
    "            #gramMat[i,j] = \n",
    "    return gramMat"
   ]
  },
  {
   "cell_type": "code",
   "execution_count": null,
   "metadata": {},
   "outputs": [],
   "source": [
    "clf = sksvm.SVC(C=1000, kernel='precomputed',random_state=0)\n",
    "clf.fit(chi_gram(train_feat,train_feat), train_labels)\n",
    "pred=clf.predict(chi_gram(val_feat,train_feat))\n",
    "acc=(np.sum(pred==val_labels)/len(val_labels))*100\n",
    "print('Accuracy: %f' % acc)"
   ]
  },
  {
   "cell_type": "code",
   "execution_count": null,
   "metadata": {
    "collapsed": true
   },
   "outputs": [],
   "source": []
  }
 ],
 "metadata": {
  "kernelspec": {
   "display_name": "Python 3",
   "language": "python",
   "name": "python3"
  },
  "language_info": {
   "codemirror_mode": {
    "name": "ipython",
    "version": 3
   },
   "file_extension": ".py",
   "mimetype": "text/x-python",
   "name": "python",
   "nbconvert_exporter": "python",
   "pygments_lexer": "ipython3",
   "version": "3.6.2"
  }
 },
 "nbformat": 4,
 "nbformat_minor": 2
}
