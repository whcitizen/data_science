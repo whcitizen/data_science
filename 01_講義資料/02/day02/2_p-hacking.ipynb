{
 "cells": [
  {
   "cell_type": "markdown",
   "metadata": {},
   "source": [
    "This script thankfully uses the code posted at http://freakonometrics.hypotheses.org/19817"
   ]
  },
  {
   "cell_type": "code",
   "execution_count": null,
   "metadata": {},
   "outputs": [],
   "source": [
    "install.packages(\"ADGofTest\")\n",
    "install.packages(\"normtest\")"
   ]
  },
  {
   "cell_type": "code",
   "execution_count": null,
   "metadata": {
    "collapsed": true
   },
   "outputs": [],
   "source": [
    "n=1000\n",
    "set.seed(12345)\n",
    "X=rt(n,df=5) #自由度5(4次元)のStudent's t random variables"
   ]
  },
  {
   "cell_type": "code",
   "execution_count": null,
   "metadata": {},
   "outputs": [],
   "source": [
    "library(ADGofTest) # Anderson Darling test\n",
    "ad.test(X,pnorm) #Is our data normaly distributed?　帰無仮説：ガウス分布に従っている"
   ]
  },
  {
   "cell_type": "markdown",
   "metadata": {},
   "source": [
    "As the sample size grows, we generally get lower p-values."
   ]
  },
  {
   "cell_type": "code",
   "execution_count": null,
   "metadata": {
    "scrolled": true
   },
   "outputs": [],
   "source": [
    "PV=function(n) ad.test(X[1:n],pnorm)$p.value \n",
    "u=seq(121,500,by=5)\n",
    "v=Vectorize(PV)(u)\n",
    "plot(u,v,type=\"l\",xlab=\"Sample Size\")\n",
    "abline(h=.05,lty=2,col=\"red\")"
   ]
  },
  {
   "cell_type": "markdown",
   "metadata": {},
   "source": [
    "It is possible to just keep \"top data\"."
   ]
  },
  {
   "cell_type": "code",
   "execution_count": null,
   "metadata": {},
   "outputs": [],
   "source": [
    "seed=function(s){\n",
    "  set.seed(s)\n",
    "  X=rt(1000,df=5)\n",
    "  ad.test(X,pnorm)$p.value>.05\n",
    "}\n",
    "test=FALSE\n",
    "s=1\n",
    "while(test==FALSE){test=seed(s); s=s+1}\n",
    "print(s-1)"
   ]
  },
  {
   "cell_type": "code",
   "execution_count": null,
   "metadata": {
    "collapsed": true
   },
   "outputs": [],
   "source": [
    "set.seed(s-1)\n",
    "X=rt(1000,df=5)\n",
    "ad.test(X,pnorm)"
   ]
  },
  {
   "cell_type": "markdown",
   "metadata": {},
   "source": [
    "Different measures provide different results and conclusions."
   ]
  },
  {
   "cell_type": "code",
   "execution_count": null,
   "metadata": {},
   "outputs": [],
   "source": [
    "library(normtest)\n",
    "mult_seed=function(s){\n",
    "   set.seed(s)\n",
    "   X=rt(200,df=5)\n",
    "   pv=c(ajb.norm.test(X)$p.value,\n",
    "        frosini.norm.test(X)$p.value,\n",
    "        jb.norm.test(X)$p.value,\n",
    "        kurtosis.norm.test(X)$p.value,\n",
    "        skewness.norm.test(X)$p.value,\n",
    "        wb.norm.test(X)$p.value\n",
    "        )\n",
    "   return(pv)\n",
    "}"
   ]
  },
  {
   "cell_type": "code",
   "execution_count": null,
   "metadata": {
    "scrolled": true
   },
   "outputs": [],
   "source": [
    "mult_seed(10)"
   ]
  },
  {
   "cell_type": "code",
   "execution_count": null,
   "metadata": {},
   "outputs": [],
   "source": [
    "mult_seed(53)"
   ]
  },
  {
   "cell_type": "code",
   "execution_count": null,
   "metadata": {
    "collapsed": true
   },
   "outputs": [],
   "source": []
  }
 ],
 "metadata": {
  "kernelspec": {
   "display_name": "R",
   "language": "R",
   "name": "ir"
  },
  "language_info": {
   "codemirror_mode": "r",
   "file_extension": ".r",
   "mimetype": "text/x-r-source",
   "name": "R",
   "pygments_lexer": "r",
   "version": "3.3.2"
  }
 },
 "nbformat": 4,
 "nbformat_minor": 2
}
