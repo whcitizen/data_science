{
 "cells": [
  {
   "cell_type": "code",
   "execution_count": 1,
   "metadata": {
    "collapsed": true
   },
   "outputs": [],
   "source": [
    "import numpy as np\n",
    "import pandas as pd\n",
    "import matplotlib.pyplot as plt"
   ]
  },
  {
   "cell_type": "code",
   "execution_count": 2,
   "metadata": {
    "collapsed": true
   },
   "outputs": [],
   "source": [
    "def loadData(filename, sep, header): #data loader using pandas\n",
    "    df = pd.read_table(filename,sep=sep,header=header)\n",
    "    df = df.fillna(df.mean()) #set NaN values to mean\n",
    "    return np.array(df) #convert to a numpy array (matrix)"
   ]
  },
  {
   "cell_type": "code",
   "execution_count": 3,
   "metadata": {},
   "outputs": [
    {
     "data": {
      "image/png": "[encoded data removed]",
      "text/plain": [
       "<matplotlib.figure.Figure at 0x7f90fbbdbef0>"
      ]
     },
     "metadata": {},
     "output_type": "display_data"
    }
   ],
   "source": [
    "data = loadData('ex0.txt',sep='\\t',header=None) #delimiter is Tab, no header\n",
    "data = np.mat(data) #today, we utilize matrix type\n",
    "xMat = data[:,0].T #column-wise\n",
    "yMat = data[:,1]\n",
    "fig = plt.figure()\n",
    "plt.scatter(xMat.A[0], yMat.T.A[0], s=10)\n",
    "plt.show()"
   ]
  },
  {
   "cell_type": "markdown",
   "metadata": {},
   "source": [
    "Exercise 1: Complete the code for standard linear regression"
   ]
  },
  {
   "cell_type": "code",
   "execution_count": 4,
   "metadata": {
    "collapsed": true
   },
   "outputs": [],
   "source": [
    "def appendBias(X):\n",
    "    return np.vstack((X, np.ones(X.shape[1])))\n",
    "\n",
    "def standRegres(xArr,yArr):\n",
    "    xMat = np.mat(xArr)\n",
    "    yMat = np.mat(yArr)\n",
    "    \n",
    "    xTx = xMat*xMat.T\n",
    "    if np.linalg.det(xTx) == 0.0:\n",
    "        print(\"This matrix is singular, cannot do inverse\")\n",
    "        return\n",
    "    #ws = xTx.I * (xMat*yMat)  #We don't use inverse in practice.\n",
    "    ws = np.linalg.solve(xTx, xMat*yMat)\n",
    "\n",
    "    return ws"
   ]
  },
  {
   "cell_type": "code",
   "execution_count": 5,
   "metadata": {},
   "outputs": [
    {
     "name": "stdout",
     "output_type": "stream",
     "text": [
      "[[ 1.69532264]\n",
      " [ 3.00774324]]\n"
     ]
    }
   ],
   "source": [
    "xMat_b = appendBias(xMat)  #xMat with bias \n",
    "w = standRegres(xMat_b,yMat)\n",
    "print(w)"
   ]
  },
  {
   "cell_type": "code",
   "execution_count": 6,
   "metadata": {
    "collapsed": true
   },
   "outputs": [],
   "source": [
    "yHat = w.T*xMat_b"
   ]
  },
  {
   "cell_type": "code",
   "execution_count": 7,
   "metadata": {
    "scrolled": true
   },
   "outputs": [
    {
     "data": {
      "image/png": "[encoded data removed]",
      "text/plain": [
       "<matplotlib.figure.Figure at 0x7f90f73b4e10>"
      ]
     },
     "metadata": {},
     "output_type": "display_data"
    }
   ],
   "source": [
    "fig = plt.figure()\n",
    "ax = fig.add_subplot(111)\n",
    "ax.scatter(xMat.flatten().A[0], yMat.T.flatten().A[0], s=10)\n",
    "ax.plot(xMat.flatten().A[0], yHat.T.flatten().A[0], color='red')\n",
    "plt.show()"
   ]
  },
  {
   "cell_type": "code",
   "execution_count": 8,
   "metadata": {},
   "outputs": [
    {
     "name": "stdout",
     "output_type": "stream",
     "text": [
      "inverse:1.9618761539459229[sec]\n",
      "solve:0.3989436626434326[sec]\n"
     ]
    }
   ],
   "source": [
    "#Bonus: comprare the time for inverse() and solve() (Ax=b)\n",
    "\n",
    "import time\n",
    "\n",
    "ndim=2000\n",
    "A = np.mat(np.random.randn(ndim,ndim))\n",
    "b = np.mat(np.random.randn(ndim,1))\n",
    "\n",
    "start = time.time()\n",
    "x1 = A.I*b\n",
    "elapsed_time = time.time() - start\n",
    "print (\"inverse:{0}\".format(elapsed_time) + \"[sec]\")\n",
    "\n",
    "start = time.time()\n",
    "x2 = np.linalg.solve(A,b)\n",
    "elapsed_time = time.time() - start\n",
    "print (\"solve:{0}\".format(elapsed_time) + \"[sec]\")"
   ]
  },
  {
   "cell_type": "markdown",
   "metadata": {},
   "source": [
    "Exercise 2: Complete the code for locally weighted linear regression"
   ]
  },
  {
   "cell_type": "code",
   "execution_count": 9,
   "metadata": {
    "collapsed": true
   },
   "outputs": [],
   "source": [
    "def locallyWeightedLR(testPoint,xArr,yArr,k=1.0):\n",
    "    testPoint = np.mat(testPoint)\n",
    "    xMat = np.mat(xArr)\n",
    "    yMat = np.mat(yArr)\n",
    "    m = np.shape(xMat)[1]\n",
    "    weights = np.mat(np.eye((m)))\n",
    "    for j in range(m):                      #next 2 lines create weights matrix\n",
    "        diffMat = testPoint - xMat[:,j]  \n",
    "        weights[j,j] = np.exp(diffMat.T*diffMat/(-2.0*k**2))\n",
    "    xTx = xMat * weights * xMat.T\n",
    "    if np.linalg.det(xTx) == 0.0:\n",
    "        print(\"This matrix is singular, cannot do inverse\")\n",
    "        return\n",
    "    ws = np.linalg.solve(xTx, (xMat * weights * yMat))\n",
    "    return ws"
   ]
  },
  {
   "cell_type": "code",
   "execution_count": 10,
   "metadata": {},
   "outputs": [
    {
     "data": {
      "text/plain": [
       "matrix([[ 1.65398739],\n",
       "        [ 3.09163874]])"
      ]
     },
     "execution_count": 10,
     "metadata": {},
     "output_type": "execute_result"
    }
   ],
   "source": [
    "locallyWeightedLR(xMat_b[:,0],xMat_b,yMat,k=0.01) #test different value of k"
   ]
  },
  {
   "cell_type": "code",
   "execution_count": 11,
   "metadata": {
    "collapsed": true
   },
   "outputs": [],
   "source": [
    "def lwLRTest(testArr,xArr,yArr,k=1.0):  #loops over all the data points and applies lwlr to each one\n",
    "    m = np.shape(testArr)[1]\n",
    "    testArr_b = appendBias(testArr)\n",
    "    xArr_b = appendBias(xArr)\n",
    "    yHat = np.zeros(m)\n",
    "    for i in range(m):\n",
    "        w = locallyWeightedLR(testArr_b[:,i],xArr_b,yArr,k)\n",
    "        yHat[i] = w.T * np.mat(testArr_b[:,i])\n",
    "    return yHat"
   ]
  },
  {
   "cell_type": "code",
   "execution_count": 12,
   "metadata": {
    "collapsed": true,
    "scrolled": true
   },
   "outputs": [],
   "source": [
    "yHat = lwLRTest(xMat,xMat,yMat,k=0.5)  "
   ]
  },
  {
   "cell_type": "code",
   "execution_count": 13,
   "metadata": {
    "scrolled": false
   },
   "outputs": [
    {
     "data": {
      "image/png": "[encoded data removed]",
      "text/plain": [
       "<matplotlib.figure.Figure at 0x7f90f72feb38>"
      ]
     },
     "metadata": {},
     "output_type": "display_data"
    }
   ],
   "source": [
    "fig = plt.figure()\n",
    "ax = fig.add_subplot(111)\n",
    "srtInd = xMat.A[0].argsort(0)\n",
    "xSort = xMat[:,srtInd]\n",
    "ax.plot(xSort.flatten().A[0],yHat[srtInd])\n",
    "ax.scatter(xMat.flatten().A[0], yMat.T.flatten().A[0], s=5, c='red')\n",
    "plt.show()\n"
   ]
  },
  {
   "cell_type": "markdown",
   "metadata": {},
   "source": [
    "Now, let's consider generalization error."
   ]
  },
  {
   "cell_type": "code",
   "execution_count": 14,
   "metadata": {
    "collapsed": true
   },
   "outputs": [],
   "source": [
    "def rssError(yArr,yHatArr): #yArr and yHatArr both need to be arrays\n",
    "    return ((yArr-yHatArr)**2).sum()"
   ]
  },
  {
   "cell_type": "markdown",
   "metadata": {},
   "source": [
    "First, evaluate error on training data."
   ]
  },
  {
   "cell_type": "code",
   "execution_count": 15,
   "metadata": {
    "scrolled": true
   },
   "outputs": [
    {
     "name": "stdout",
     "output_type": "stream",
     "text": [
      "k=10: 532.9037383272165\n",
      "k=1: 411.97877254924856\n",
      "k=0.5: 314.49778461048305\n"
     ]
    }
   ],
   "source": [
    "data = loadData('abalone.txt',sep='\\t', header=None)\n",
    "xMat = np.mat(data[:,:8]).T\n",
    "yMat = np.mat(data[:,8]).T\n",
    "\n",
    "for k in [10,1,.5]:\n",
    "    yHat=lwLRTest(xMat[:,:100],xMat[:,:100],yMat[:100],k)\n",
    "    print('k={0}: {1}'.format(k, rssError(yMat[:100].T.A[0],yHat)))\n"
   ]
  },
  {
   "cell_type": "markdown",
   "metadata": {},
   "source": [
    "Ok, so how about testing data?"
   ]
  },
  {
   "cell_type": "code",
   "execution_count": 16,
   "metadata": {},
   "outputs": [
    {
     "name": "stdout",
     "output_type": "stream",
     "text": [
      "k=10: 609.9244790868446\n",
      "k=1: 664.2491584972063\n",
      "k=0.5: 744.0252058875878\n"
     ]
    }
   ],
   "source": [
    "for k in [10,1,.5]:\n",
    "    yHat=lwLRTest(xMat[:,100:200],xMat[:,:100],yMat[:100],k)    #テストデータを別にとる\n",
    "    print('k={0}: {1}'.format(k, rssError(yMat[100:200].T.A[0],yHat)))\n"
   ]
  },
  {
   "cell_type": "markdown",
   "metadata": {},
   "source": [
    "Exercise 3: Complete the code for Ridge regression"
   ]
  },
  {
   "cell_type": "code",
   "execution_count": 17,
   "metadata": {
    "collapsed": true
   },
   "outputs": [],
   "source": [
    "def ridgeRegres(xArr,yArr, gamma):\n",
    "    xMat = np.mat(xArr)\n",
    "    yMat = np.mat(yArr)\n",
    "    \n",
    "    xTx = xMat*xMat.T + gamma*np.eye(xMat.shape[0])\n",
    "    if np.linalg.det(xTx) == 0.0:\n",
    "        print(\"This matrix is singular, cannot do inverse\")\n",
    "        return\n",
    "    ws = np.linalg.solve(xTx, xMat*yMat)\n",
    "    return ws"
   ]
  },
  {
   "cell_type": "code",
   "execution_count": 18,
   "metadata": {},
   "outputs": [
    {
     "name": "stdout",
     "output_type": "stream",
     "text": [
      "linear regression: 1393.9179187510692\n"
     ]
    }
   ],
   "source": [
    "w=standRegres(xMat_b[:,:10],yMat[:10])\n",
    "yHat=w.T*xMat_b[:,100:200]\n",
    "print('linear regression: {0}'.format(rssError(yMat[100:200].T.A[0],yHat.T.A[0])))"
   ]
  },
  {
   "cell_type": "code",
   "execution_count": 19,
   "metadata": {},
   "outputs": [
    {
     "name": "stdout",
     "output_type": "stream",
     "text": [
      "Ridge regression, gamma=0.001: 1393.6694607985069\n",
      "Ridge regression, gamma=0.01: 1391.4543016530092\n",
      "Ridge regression, gamma=0.1: 1371.2471722736207\n",
      "Ridge regression, gamma=1: 1295.498807607054\n",
      "Ridge regression, gamma=10: 3293.7041410959237\n",
      "Ridge regression, gamma=100: 10433.838326679714\n"
     ]
    }
   ],
   "source": [
    "for gamma in [.001, .01, .1, 1,10,100]:\n",
    "    w=ridgeRegres(xMat_b[:,:10],yMat[:10],gamma)\n",
    "    yHat=w.T*xMat_b[:,100:200]\n",
    "    print('Ridge regression, gamma={0}: {1}'.format(gamma, rssError(yMat[100:200].T.A[0],yHat.T.A[0])))\n"
   ]
  },
  {
   "cell_type": "markdown",
   "metadata": {
    "collapsed": true
   },
   "source": [
    "Let's see how coefficients shrink."
   ]
  },
  {
   "cell_type": "code",
   "execution_count": 20,
   "metadata": {
    "collapsed": true
   },
   "outputs": [],
   "source": [
    "def ridgeTest(xArr,yArr):  #Loops ridgeRegress with different values of gamma.\n",
    "    xMat = np.mat(xArr)\n",
    "    yMat = np.mat(yArr)\n",
    "    #regularize X's so that coefficient values are roughly normalized\n",
    "    xMeans = np.mean(xMat,0)\n",
    "    xStd = np.std(xMat,0)  \n",
    "    xMat = (xMat - xMeans)/xStd\n",
    "    numTestPts = 30\n",
    "    wMat = np.zeros((numTestPts,np.shape(xMat)[0])) \n",
    "    for i in range(numTestPts):\n",
    "        ws = ridgeRegres(xMat,yMat,np.exp(i-10))\n",
    "        wMat[i,:]=ws.T\n",
    "    return wMat"
   ]
  },
  {
   "cell_type": "markdown",
   "metadata": {},
   "source": [
    "Now let's plot coefficents. Note that we ignore bias term here. The horizontal axis corresponds to log(gamma)."
   ]
  },
  {
   "cell_type": "code",
   "execution_count": 21,
   "metadata": {},
   "outputs": [
    {
     "data": {
      "image/png": "[encoded data removed]",
      "text/plain": [
       "<matplotlib.figure.Figure at 0x7f90f72dd400>"
      ]
     },
     "metadata": {},
     "output_type": "display_data"
    }
   ],
   "source": [
    "ridgeWeights = ridgeTest(xMat,yMat)\n",
    "fig = plt.figure()\n",
    "ax = fig.add_subplot(111)\n",
    "ax.plot(ridgeWeights)\n",
    "plt.show()"
   ]
  },
  {
   "cell_type": "code",
   "execution_count": null,
   "metadata": {
    "collapsed": true
   },
   "outputs": [],
   "source": []
  }
 ],
 "metadata": {
  "kernelspec": {
   "display_name": "Python 3",
   "language": "python",
   "name": "python3"
  },
  "language_info": {
   "codemirror_mode": {
    "name": "ipython",
    "version": 3
   },
   "file_extension": ".py",
   "mimetype": "text/x-python",
   "name": "python",
   "nbconvert_exporter": "python",
   "pygments_lexer": "ipython3",
   "version": "3.6.2"
  }
 },
 "nbformat": 4,
 "nbformat_minor": 2
}
