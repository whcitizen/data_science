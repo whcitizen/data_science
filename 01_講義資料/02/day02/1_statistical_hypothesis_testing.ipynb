{
 "cells": [
  {
   "cell_type": "markdown",
   "metadata": {},
   "source": [
    "# 平均値の検定"
   ]
  },
  {
   "cell_type": "markdown",
   "metadata": {},
   "source": [
    "### 母集団の分散が既知の場合"
   ]
  },
  {
   "cell_type": "code",
   "execution_count": null,
   "metadata": {
    "collapsed": true
   },
   "outputs": [],
   "source": [
    "x<-rnorm(50, mean=100, sd=15)  #平均100, 標準偏差15の正規分布からランダムに50点サンプリングし、標本とする"
   ]
  },
  {
   "cell_type": "code",
   "execution_count": null,
   "metadata": {},
   "outputs": [],
   "source": [
    "sd=15 #母集団の標準偏差．既知とする．\n",
    "mu_test=120 #テストしたい母集団の平均値. 帰無仮説：母集団の平均は105である\n",
    "\n",
    "mean_x = mean(x) #xの平均値\n",
    "norm_x = (mean_x-mu_test)/sqrt(sd*sd/length(x)) #標本平均の標準化（中心極限定理を利用する）\n",
    "\n",
    "#標準正規分布で両側2.5%の面積に含まれるか?\n",
    "norm_x < qnorm(0.025) || norm_x > qnorm(0.025, lower.tail=FALSE)"
   ]
  },
  {
   "cell_type": "markdown",
   "metadata": {},
   "source": [
    "### 母集団の分散が未知の場合（t検定）"
   ]
  },
  {
   "cell_type": "code",
   "execution_count": null,
   "metadata": {
    "scrolled": false
   },
   "outputs": [],
   "source": [
    "t.test(x, mu=110) #帰無仮説：母集団の平均は110である"
   ]
  },
  {
   "cell_type": "code",
   "execution_count": null,
   "metadata": {
    "scrolled": false
   },
   "outputs": [],
   "source": [
    "t.test(x, mu=101) #帰無仮説：母集団の平均は101である"
   ]
  },
  {
   "cell_type": "markdown",
   "metadata": {},
   "source": [
    "### ２つの標本の平均を比較"
   ]
  },
  {
   "cell_type": "code",
   "execution_count": null,
   "metadata": {},
   "outputs": [],
   "source": [
    "x<-c(2, 3, 1, 2, 3)\n",
    "y<-c(3, 2, 4, 3, 3)\n",
    "t.test(x,y,paired=TRUE) #帰無仮説：2つの母集団x,yの平均値は同じ である"
   ]
  },
  {
   "cell_type": "markdown",
   "metadata": {},
   "source": [
    "## 相関の検定"
   ]
  },
  {
   "cell_type": "code",
   "execution_count": null,
   "metadata": {},
   "outputs": [],
   "source": [
    "x<-rnorm(50, mean=100, sd=15)\n",
    "y<-x+rnorm(50, sd=15)   # xに正規分布によるノイズを加える \n",
    "cor.test(x[1:10],y[1:10])   # 最初の10点で検定してみる. 帰無仮説：2つの母集団x,yに相関はない"
   ]
  },
  {
   "cell_type": "markdown",
   "metadata": {},
   "source": [
    "## 比率の信頼区間"
   ]
  },
  {
   "cell_type": "code",
   "execution_count": null,
   "metadata": {},
   "outputs": [],
   "source": [
    "prop.test(1e+09, 3e+09, 0.3) #(x, n, p) n回の試行でx回True. 帰無仮説：母集団のTrueの割合がp\n",
    "prop.test(1e+05, 3e+05, 0.3)"
   ]
  },
  {
   "cell_type": "code",
   "execution_count": null,
   "metadata": {},
   "outputs": [],
   "source": [
    "prop.test(1e+05, 3e+09, 3e-05)\n",
    "prop.test(10, 3e+05, 3e-05)"
   ]
  }
 ],
 "metadata": {
  "kernelspec": {
   "display_name": "R",
   "language": "R",
   "name": "ir"
  },
  "language_info": {
   "codemirror_mode": "r",
   "file_extension": ".r",
   "mimetype": "text/x-r-source",
   "name": "R",
   "pygments_lexer": "r",
   "version": "3.3.2"
  }
 },
 "nbformat": 4,
 "nbformat_minor": 2
}
