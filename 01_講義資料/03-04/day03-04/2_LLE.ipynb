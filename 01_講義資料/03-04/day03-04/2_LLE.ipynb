{
 "cells": [
  {
   "cell_type": "markdown",
   "metadata": {},
   "source": [
    "Modified code from Chapter 10 of Machine Learning: An Algorithmic Perspective by Stephen Marsland (http://seat.massey.ac.nz/personal/s.r.marsland/MLBook.html)\n"
   ]
  },
  {
   "cell_type": "code",
   "execution_count": null,
   "metadata": {
    "collapsed": true
   },
   "outputs": [],
   "source": [
    "import numpy as np\n",
    "import matplotlib.pyplot as plt\n",
    "from mpl_toolkits.mplot3d import Axes3D"
   ]
  },
  {
   "cell_type": "code",
   "execution_count": null,
   "metadata": {},
   "outputs": [],
   "source": [
    "def swissroll():\n",
    "        # Make the swiss roll dataset\n",
    "        N = 1000\n",
    "        noise = 0.05\n",
    "\n",
    "        t = 3*np.math.pi/2 * (1 + 2*np.random.rand(1,N))\n",
    "        h = 21 * np.random.rand(1,N)\n",
    "        data = np.concatenate((t*np.cos(t),h,t*np.sin(t))) + noise*np.random.randn(3,N)\n",
    "        return data.T, np.squeeze(t)\n",
    "    \n",
    "data,t = swissroll()\n",
    "fig = plt.figure()\n",
    "ax = Axes3D(fig)\n",
    "ax.scatter3D(data[:,0],data[:,1],data[:,2],s=50,c=t)\n",
    "plt.show()"
   ]
  },
  {
   "cell_type": "code",
   "execution_count": null,
   "metadata": {
    "collapsed": true
   },
   "outputs": [],
   "source": [
    "def LLE(data,nRedDim=2,K=12):\n",
    "\n",
    "    ndata = data.shape[0]\n",
    "    ndim = data.shape[1]\n",
    "    d = np.zeros((ndata,ndata),dtype=float)\n",
    "\n",
    "    # Inefficient -- not matrices\n",
    "    for i in range(ndata):\n",
    "        for j in range(i+1,ndata):\n",
    "            for k in range(ndim):\n",
    "                d[i,j] += (data[i,k] - data[j,k])**2\n",
    "            d[i,j] = np.sqrt(d[i,j])\n",
    "            d[j,i] = d[i,j]\n",
    "\n",
    "    indices = d.argsort(axis=1)\n",
    "    neighbours = indices[:,1:K+1]\n",
    "\n",
    "    W = np.zeros((K,ndata),dtype=float)\n",
    "\n",
    "    for i in range(ndata):\n",
    "        Z  = data[neighbours[i,:],:] - np.kron(np.ones((K,1)),data[i,:])\n",
    "        C = np.dot(Z,Z.T)\n",
    "        C = C+np.identity(K)*1e-3*np.trace(C)\n",
    "        W[:,i] = np.transpose(np.linalg.solve(C,np.ones((K,1))))\n",
    "        W[:,i] = W[:,i]/sum(W[:,i])\n",
    "    \n",
    "    M = np.eye(ndata,dtype=float)\n",
    "    for i in range(ndata):\n",
    "        w = np.transpose(np.ones((1,W.shape[0]))*np.transpose(W[:,i]))\n",
    "        j = neighbours[i,:]\n",
    "        #print shape(w), shape(dot(w,transpose(w))), shape(M[i,j])\n",
    "        ww = np.dot(w,w.T)\n",
    "        for k in range(K):\n",
    "            M[i,j[k]] -= w[k]\n",
    "            M[j[k],i] -= w[k]\n",
    "            for l in range(K):\n",
    "                 M[j[k],j[l]] += ww[k,l]\n",
    "\n",
    "    evals,evecs = np.linalg.eig(M)\n",
    "    ind = np.argsort(evals)\n",
    "    y = evecs[:,ind[1:nRedDim+1]]*np.sqrt(ndata)\n",
    "    return evals,evecs,y\n"
   ]
  },
  {
   "cell_type": "code",
   "execution_count": null,
   "metadata": {},
   "outputs": [],
   "source": [
    "data,t = swissroll()\n",
    "evals,evecs,y = LLE(data)\n",
    "\n",
    "t -= t.min()\n",
    "t /= t.max()\n",
    "plt.scatter(y[:,0],y[:,1],s=50,c=t)\n",
    "plt.show()"
   ]
  },
  {
   "cell_type": "code",
   "execution_count": null,
   "metadata": {
    "collapsed": true
   },
   "outputs": [],
   "source": []
  }
 ],
 "metadata": {
  "kernelspec": {
   "display_name": "Python 3",
   "language": "python",
   "name": "python3"
  },
  "language_info": {
   "codemirror_mode": {
    "name": "ipython",
    "version": 3
   },
   "file_extension": ".py",
   "mimetype": "text/x-python",
   "name": "python",
   "nbconvert_exporter": "python",
   "pygments_lexer": "ipython3",
   "version": "3.6.2"
  }
 },
 "nbformat": 4,
 "nbformat_minor": 2
}
