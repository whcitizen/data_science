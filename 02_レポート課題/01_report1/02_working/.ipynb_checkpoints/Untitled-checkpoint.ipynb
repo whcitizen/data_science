{
 "cells": [
  {
   "cell_type": "code",
   "execution_count": 7,
   "metadata": {
    "collapsed": false
   },
   "outputs": [],
   "source": [
    "import numpy as np\n",
    "import pandas as pd\n",
    "from sklearn import model_selection, linear_model\n",
    "\n",
    "df = pd.read_csv(\"train.csv\", header = None)\n",
    "df_target = df.iloc[:,53]\n",
    "\n",
    "target_max = df_target.max()\n",
    "target_min = df_target.min()\n",
    "\n",
    "target_amount = np.zeros((target_max - target_min +1, 2))\n",
    "for i in range(target_min, target_max+1):\n",
    "    target = df_target.where(df_target == i)\n",
    "    target_amount[i, 0] = i\n",
    "    target_amount[i, 1] = target.count()\n",
    "    i += 1\n",
    "\n",
    "output = pd.DataFrame(target_amount)\n",
    "\n",
    "output.to_csv(\"target_distribution.csv\")"
   ]
  }
 ],
 "metadata": {
  "kernelspec": {
   "display_name": "Python 3",
   "language": "python",
   "name": "python3"
  },
  "language_info": {
   "codemirror_mode": {
    "name": "ipython",
    "version": 3
   },
   "file_extension": ".py",
   "mimetype": "text/x-python",
   "name": "python",
   "nbconvert_exporter": "python",
   "pygments_lexer": "ipython3",
   "version": "3.6.0"
  }
 },
 "nbformat": 4,
 "nbformat_minor": 2
}
