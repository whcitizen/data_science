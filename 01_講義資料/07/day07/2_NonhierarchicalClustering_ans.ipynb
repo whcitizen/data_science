{
 "cells": [
  {
   "cell_type": "markdown",
   "metadata": {},
   "source": [
    "Modified version of \"k Means Clustering for Ch10 of Machine Learning in Action\"\n",
    "(original author: Peter Harrington)"
   ]
  },
  {
   "cell_type": "code",
   "execution_count": 1,
   "metadata": {
    "collapsed": true
   },
   "outputs": [],
   "source": [
    "import numpy as np\n",
    "import pandas as pd\n",
    "import matplotlib.pyplot as plt"
   ]
  },
  {
   "cell_type": "code",
   "execution_count": 2,
   "metadata": {
    "collapsed": true
   },
   "outputs": [],
   "source": [
    "def loadData(filename, sep, header): #data loader using pandas\n",
    "    df = pd.read_table(filename,sep=sep,header=header)\n",
    "    df = df.fillna(df.mean()) #set NaN values to mean\n",
    "    return np.array(df) #convert to a numpy array (matrix)"
   ]
  },
  {
   "cell_type": "code",
   "execution_count": 3,
   "metadata": {},
   "outputs": [
    {
     "data": {
      "text/plain": [
       "(80, 2)"
      ]
     },
     "execution_count": 3,
     "metadata": {},
     "output_type": "execute_result"
    }
   ],
   "source": [
    "dataMat = loadData('testSet.txt',sep='\\t',header=None) #delimiter is Tab, no header\n",
    "dataMat.shape"
   ]
  },
  {
   "cell_type": "markdown",
   "metadata": {},
   "source": [
    "Exercise 1: implement standard k-means algorithm"
   ]
  },
  {
   "cell_type": "code",
   "execution_count": 4,
   "metadata": {
    "collapsed": true
   },
   "outputs": [],
   "source": [
    "def randCent(dataSet, k):  #function to initialize seeds for each cluster\n",
    "    n = np.shape(dataSet)[1]\n",
    "    centroids = np.mat(np.zeros((k,n)))#create centroid mat\n",
    "    for j in range(n):#create random cluster centers, within bounds of each dimension\n",
    "        minJ = min(dataSet[:,j]) \n",
    "        rangeJ = float(max(dataSet[:,j]) - minJ)\n",
    "        centroids[:,j] = np.mat(minJ + rangeJ * np.random.rand(k,1))\n",
    "    return centroids"
   ]
  },
  {
   "cell_type": "code",
   "execution_count": 5,
   "metadata": {
    "collapsed": true
   },
   "outputs": [],
   "source": [
    "def kMeans(dataSet, k):\n",
    "    m = np.shape(dataSet)[0] #number of data points\n",
    "    clusterAssment = np.mat(np.zeros((m,2)))#create mat to assign data points \n",
    "                                      #0th column: index of the current cluster to which each data is assigned\n",
    "                                      #1st column: distance to that cluster\n",
    "\n",
    "    centroids = randCent(dataSet, k)  #initialize cluster centroids\n",
    "    clusterChanged = True  #flag for termination (if false)\n",
    "    while clusterChanged:\n",
    "        clusterChanged = False\n",
    "        for i in range(m):#for each data point assign it to the closest centroid\n",
    "            minDist = np.inf; minIndex = -1\n",
    "            for j in range(k):\n",
    "                distJI = np.linalg.norm(centroids[j,:]-dataSet[i,:]) #simply use L2 distance today\n",
    "                if distJI < minDist:\n",
    "                    minDist = distJI; minIndex = j\n",
    "            if clusterAssment[i,0] != minIndex: clusterChanged = True\n",
    "            clusterAssment[i,:] = minIndex,minDist**2\n",
    "        print(centroids)\n",
    "        for cent in range(k):#recalculate centroids\n",
    "            ptsInClust = dataSet[np.nonzero(clusterAssment[:,0].A==cent)[0]]#get all the point in this cluster\n",
    "            centroids[cent,:] = np.mean(ptsInClust, axis=0) #assign centroid to mean \n",
    "    return centroids, clusterAssment"
   ]
  },
  {
   "cell_type": "code",
   "execution_count": 6,
   "metadata": {},
   "outputs": [
    {
     "name": "stdout",
     "output_type": "stream",
     "text": [
      "[[-4.84961452  4.54716257]\n",
      " [ 4.80118933 -2.77197195]\n",
      " [ 0.51600651  4.98754334]\n",
      " [-0.78034735  2.89601416]]\n",
      "[[-3.67036525  3.311776  ]\n",
      " [ 2.59258145 -2.78274655]\n",
      " [ 2.624524    3.53268467]\n",
      " [-2.30800636 -0.01725267]]\n",
      "[[-2.54183917  2.93204467]\n",
      " [ 2.65077367 -2.79019029]\n",
      " [ 2.6265299   3.10868015]\n",
      " [-3.36822843 -2.4767769 ]]\n",
      "[[-2.46154315  2.78737555]\n",
      " [ 2.65077367 -2.79019029]\n",
      " [ 2.6265299   3.10868015]\n",
      " [-3.53973889 -2.89384326]]\n"
     ]
    },
    {
     "data": {
      "image/png": "[encoded data removed]",
      "text/plain": [
       "<matplotlib.figure.Figure at 0x7f7e6223d780>"
      ]
     },
     "metadata": {},
     "output_type": "display_data"
    }
   ],
   "source": [
    "myCentroids, clustAssign = kMeans(dataMat,k=4)\n",
    "\n",
    "fig = plt.figure()\n",
    "ax = fig.add_subplot(111)\n",
    "ax.scatter(np.array(dataMat[:,0]),np.array(dataMat[:,1]),s=20,c='red',marker='s')\n",
    "ax.scatter(np.array(myCentroids[:,0]),np.array(myCentroids[:,1]),s=20,c='green',marker='o')\n",
    "plt.show()\n"
   ]
  },
  {
   "cell_type": "markdown",
   "metadata": {},
   "source": [
    "Bonus: Bisecting k-means"
   ]
  },
  {
   "cell_type": "code",
   "execution_count": 7,
   "metadata": {
    "collapsed": true
   },
   "outputs": [],
   "source": [
    "def biKmeans(dataSet, k):\n",
    "    m = np.shape(dataSet)[0]\n",
    "    clusterAssment = np.mat(np.zeros((m,2)))\n",
    "    centroid0 = np.mean(dataSet, axis=0).tolist()[0]\n",
    "    centList =[centroid0] #create a list with one centroid\n",
    "    for j in range(m):#calc initial Error\n",
    "        clusterAssment[j,1] = np.linalg.norm(np.mat(centroid0)-dataSet[j,:])**2\n",
    "    while (len(centList) < k):\n",
    "        lowestSSE = np.inf\n",
    "        for i in range(len(centList)):\n",
    "            ptsInCurrCluster = dataSet[np.nonzero(clusterAssment[:,0].A==i)[0],:]#get the data points currently in cluster i\n",
    "            centroidMat, splitClustAss = kMeans(ptsInCurrCluster, 2) #call usual k-means internally\n",
    "            sseSplit = sum(splitClustAss[:,1])#compare the SSE to the currrent minimum\n",
    "            sseNotSplit = sum(clusterAssment[np.nonzero(clusterAssment[:,0].A!=i)[0],1])\n",
    "            print(\"sseSplit, and notSplit: \",sseSplit,sseNotSplit)\n",
    "            if (sseSplit + sseNotSplit) < lowestSSE:\n",
    "                bestCentToSplit = i\n",
    "                bestNewCents = centroidMat\n",
    "                bestClustAss = splitClustAss.copy()\n",
    "                lowestSSE = sseSplit + sseNotSplit\n",
    "        bestClustAss[np.nonzero(bestClustAss[:,0].A == 1)[0],0] = len(centList) #change 1 to 3,4, or whatever\n",
    "        bestClustAss[np.nonzero(bestClustAss[:,0].A == 0)[0],0] = bestCentToSplit\n",
    "        print('the bestCentToSplit is: ',bestCentToSplit)\n",
    "        print('the len of bestClustAss is: ', len(bestClustAss))\n",
    "        centList[bestCentToSplit] = bestNewCents[0,:].tolist()[0]#replace a centroid with two best centroids \n",
    "        centList.append(bestNewCents[1,:].tolist()[0])\n",
    "        clusterAssment[np.nonzero(clusterAssment[:,0].A == bestCentToSplit)[0],:]= bestClustAss#reassign new clusters, and SSE\n",
    "    return np.mat(centList), clusterAssment"
   ]
  },
  {
   "cell_type": "code",
   "execution_count": 8,
   "metadata": {},
   "outputs": [
    {
     "name": "stdout",
     "output_type": "stream",
     "text": [
      "[[ 1.65266448  3.49186753]\n",
      " [ 1.55111902  2.11357422]]\n",
      "[[ 0.65640186  3.55400509]\n",
      " [-0.39189479 -1.27317269]]\n",
      "[[ 0.34421986  3.07632743]\n",
      " [-0.48895795 -2.54604695]]\n",
      "[[ 0.08249338  2.94802785]\n",
      " [-0.2897198  -2.83942545]]\n",
      "sseSplit, and notSplit:  [[ 792.91685654]] 0\n",
      "the bestCentToSplit is:  0\n",
      "the len of bestClustAss is:  80\n",
      "[[-1.64270454  1.68405982]\n",
      " [ 2.78793207  3.49859104]]\n",
      "[[-2.46154315  2.78737555]\n",
      " [ 2.6265299   3.10868015]]\n",
      "sseSplit, and notSplit:  [[ 66.36683512]] [[ 466.63278134]]\n",
      "[[-1.47250829 -1.97799766]\n",
      " [-0.79151422 -3.14715757]]\n",
      "[[-3.43611361 -2.65179672]\n",
      " [ 2.28460241 -2.99293986]]\n",
      "[[-3.53973889 -2.89384326]\n",
      " [ 2.65077367 -2.79019029]]\n",
      "sseSplit, and notSplit:  [[ 84.25921395]] [[ 326.2840752]]\n",
      "the bestCentToSplit is:  1\n",
      "the len of bestClustAss is:  40\n",
      "[[-2.98414508  4.03370667]\n",
      " [-0.56506646  4.64174918]]\n",
      "[[-2.70030241  2.70457282]\n",
      " [ 2.13934243  3.12797287]]\n",
      "[[-2.46154315  2.78737555]\n",
      " [ 2.6265299   3.10868015]]\n",
      "sseSplit, and notSplit:  [[ 66.36683512]] [[ 84.25921395]]\n",
      "[[-3.63184974 -3.09649197]\n",
      " [-3.67640361 -2.26997983]]\n",
      "[[-3.5980785  -3.32781167]\n",
      " [-3.43972814 -2.14989743]]\n",
      "sseSplit, and notSplit:  [[ 15.85824865]] [[ 388.4400526]]\n",
      "[[ 0.8935959  -3.95314449]\n",
      " [ 0.06316846 -3.63662077]]\n",
      "[[ 3.05021133 -2.82492178]\n",
      " [ 0.25414767 -2.58180133]]\n",
      "[[ 3.17437012 -2.75441347]\n",
      " [ 0.42548875 -2.94224175]]\n",
      "sseSplit, and notSplit:  [[ 37.57356216]] [[ 348.38731176]]\n",
      "the bestCentToSplit is:  0\n",
      "the len of bestClustAss is:  40\n"
     ]
    },
    {
     "data": {
      "image/png": "[encoded data removed]",
      "text/plain": [
       "<matplotlib.figure.Figure at 0x7f7e62213908>"
      ]
     },
     "metadata": {},
     "output_type": "display_data"
    }
   ],
   "source": [
    "myCentroids, clustAssign = biKmeans(dataMat,k=4)\n",
    "\n",
    "fig = plt.figure()\n",
    "ax = fig.add_subplot(111)\n",
    "ax.scatter(np.array(dataMat[:,0]),np.array(dataMat[:,1]),s=20,c='red',marker='s')\n",
    "ax.scatter(np.array(myCentroids[:,0]),np.array(myCentroids[:,1]),s=20,c='green',marker='o')\n",
    "plt.show()"
   ]
  },
  {
   "cell_type": "code",
   "execution_count": null,
   "metadata": {
    "collapsed": true
   },
   "outputs": [],
   "source": []
  }
 ],
 "metadata": {
  "kernelspec": {
   "display_name": "Python 3",
   "language": "python",
   "name": "python3"
  },
  "language_info": {
   "codemirror_mode": {
    "name": "ipython",
    "version": 3
   },
   "file_extension": ".py",
   "mimetype": "text/x-python",
   "name": "python",
   "nbconvert_exporter": "python",
   "pygments_lexer": "ipython3",
   "version": "3.6.2"
  }
 },
 "nbformat": 4,
 "nbformat_minor": 2
}
