{
 "cells": [
  {
   "cell_type": "code",
   "execution_count": null,
   "metadata": {
    "collapsed": true
   },
   "outputs": [],
   "source": [
    "import numpy as np\n",
    "import pandas as pd\n",
    "import matplotlib.pyplot as plt"
   ]
  },
  {
   "cell_type": "code",
   "execution_count": null,
   "metadata": {
    "collapsed": true,
    "scrolled": false
   },
   "outputs": [],
   "source": [
    "def loadData(filename, sep, header): #data loader using pandas\n",
    "    df = pd.read_table(filename,sep=sep,header=header)\n",
    "    df = df.fillna(df.mean()) #set NaN values to mean\n",
    "    return np.array(df) #convert to a numpy array (matrix)"
   ]
  },
  {
   "cell_type": "code",
   "execution_count": null,
   "metadata": {
    "scrolled": false
   },
   "outputs": [],
   "source": [
    "X = loadData('testSet.txt',sep='\\t',header=None) #delimiter is Tab, no header\n",
    "X = X.T  #convert to column-wise\n",
    "\n",
    "fig = plt.figure()\n",
    "ax = fig.add_subplot(111)\n",
    "ax.scatter(X[0,:], X[1,:], marker='^', s=90)\n",
    "plt.show()"
   ]
  },
  {
   "cell_type": "markdown",
   "metadata": {},
   "source": [
    "Exercise 1-1: Complete the PCA code (covariance matrix)"
   ]
  },
  {
   "cell_type": "code",
   "execution_count": null,
   "metadata": {
    "collapsed": true
   },
   "outputs": [],
   "source": [
    "def PCA(X): #we assume that sample is given in column-wise manner\n",
    "    ndata = X.shape[1]\n",
    "    meanVec = np.mean(X, axis=1)\n",
    "    meanVec = meanVec.reshape(-1,1) #convert to column vector\n",
    "    \n",
    "    ###TODO: compute covariance matrix\n",
    "    # covMat = ...\n",
    "    \n",
    "    eigVals,eigVects = np.linalg.eig(covMat)\n",
    "    eigValInd = np.argsort(-eigVals)        #sort in descending order\n",
    "    eigVects = eigVects[:,eigValInd]       #reorganize eigen vectors \n",
    "    return eigVals, eigVects"
   ]
  },
  {
   "cell_type": "markdown",
   "metadata": {},
   "source": [
    "Exercise 1-2: Complete the code for reconstruction"
   ]
  },
  {
   "cell_type": "code",
   "execution_count": null,
   "metadata": {
    "scrolled": false
   },
   "outputs": [],
   "source": [
    "ndim=1  #number of desired principal components (what happens when ndim=2 ?)\n",
    "Lambda, A = PCA(X)\n",
    "meanVec = np.mean(X, axis=1)\n",
    "meanVec = meanVec.reshape(-1,1) \n",
    "lowX = np.dot(A[:,:ndim].T, X - meanVec).reshape(ndim,-1) #transform data into new dimension\n",
    "\n",
    "### TODO: compute reconstructed data (be careful with offsets)\n",
    "# reconMat = ... \n",
    "\n",
    "fig = plt.figure()\n",
    "ax = fig.add_subplot(111)\n",
    "ax.scatter(X[0,:], X[1,:], marker='^', s=90)\n",
    "ax.scatter(reconMat[0,:], reconMat[1,:], marker='o', s=50, c='red')\n",
    "plt.show()"
   ]
  },
  {
   "cell_type": "markdown",
   "metadata": {},
   "source": [
    "Note that eigenvectors are unit normalized and mutually orthogonal."
   ]
  },
  {
   "cell_type": "code",
   "execution_count": null,
   "metadata": {},
   "outputs": [],
   "source": [
    "print(np.dot(A.T,A))"
   ]
  },
  {
   "cell_type": "markdown",
   "metadata": {},
   "source": [
    "Exercise 2: Write PCA using auto-correlation matrix and compare the results."
   ]
  },
  {
   "cell_type": "code",
   "execution_count": null,
   "metadata": {
    "collapsed": true
   },
   "outputs": [],
   "source": [
    "###TODO\n",
    "def PCA2(X):\n",
    "    ...\n",
    "    ..."
   ]
  },
  {
   "cell_type": "code",
   "execution_count": null,
   "metadata": {},
   "outputs": [],
   "source": [
    "Lambda, B = PCA2(X)\n",
    "lowX2 = np.dot(B[:,:ndim].T, X).reshape(ndim,-1)\n",
    "reconMat2 = np.dot(B[:,:ndim], lowX2)\n",
    "fig = plt.figure()\n",
    "ax = fig.add_subplot(111)\n",
    "ax.scatter(X[0,:], X[1,:], marker='^', s=90)\n",
    "ax.scatter(reconMat[0,:], reconMat[1,:], marker='.', s=50, c='red')\n",
    "ax.scatter(reconMat2[0,:], reconMat2[1,:], marker='.', s=50, c='green')\n",
    "plt.show()"
   ]
  },
  {
   "cell_type": "markdown",
   "metadata": {},
   "source": [
    "Let's tests on high-dimensional data."
   ]
  },
  {
   "cell_type": "code",
   "execution_count": null,
   "metadata": {},
   "outputs": [],
   "source": [
    "X = loadData('secom.data',sep=' ',header=None) #delimiter is space, no header\n",
    "X = X.T\n",
    "print(X.shape)"
   ]
  },
  {
   "cell_type": "code",
   "execution_count": null,
   "metadata": {},
   "outputs": [],
   "source": [
    "Lambda, A = PCA(X)"
   ]
  },
  {
   "cell_type": "code",
   "execution_count": null,
   "metadata": {},
   "outputs": [],
   "source": [
    "plt.plot(Lambda[:10]/np.sum(Lambda)) \n",
    "plt.show()"
   ]
  },
  {
   "cell_type": "code",
   "execution_count": null,
   "metadata": {
    "collapsed": true
   },
   "outputs": [],
   "source": []
  }
 ],
 "metadata": {
  "kernelspec": {
   "display_name": "Python 3",
   "language": "python",
   "name": "python3"
  },
  "language_info": {
   "codemirror_mode": {
    "name": "ipython",
    "version": 3
   },
   "file_extension": ".py",
   "mimetype": "text/x-python",
   "name": "python",
   "nbconvert_exporter": "python",
   "pygments_lexer": "ipython3",
   "version": "3.6.2"
  }
 },
 "nbformat": 4,
 "nbformat_minor": 2
}
