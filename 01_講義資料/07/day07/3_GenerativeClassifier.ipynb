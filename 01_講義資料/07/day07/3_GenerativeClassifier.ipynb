{
 "cells": [
  {
   "cell_type": "code",
   "execution_count": null,
   "metadata": {
    "collapsed": true
   },
   "outputs": [],
   "source": [
    "import os\n",
    "from operator import itemgetter\n",
    "import numpy as np\n",
    "import pandas as pd\n",
    "import matplotlib.pyplot as plt"
   ]
  },
  {
   "cell_type": "markdown",
   "metadata": {},
   "source": [
    "Some utilities for digit dataset."
   ]
  },
  {
   "cell_type": "code",
   "execution_count": null,
   "metadata": {},
   "outputs": [],
   "source": [
    "def img2vector(filename):\n",
    "    returnVect = np.zeros((1,1024)) #images are 32x32, constituting 1024-dim vectors\n",
    "    fr = open(filename)\n",
    "    for i in range(32):\n",
    "        lineStr = fr.readline()\n",
    "        for j in range(32):\n",
    "            returnVect[0,32*i+j] = int(lineStr[j])\n",
    "    return returnVect\n",
    "\n",
    "def loadDigits(dataDir):\n",
    "    labels = []\n",
    "    fileList = os.listdir(dataDir)\n",
    "    m = len(fileList)\n",
    "    dataMat = np.zeros((m,1024))\n",
    "    for i in range(m):\n",
    "        fileNameStr = fileList[i]  #load the training set\n",
    "        fileStr = fileNameStr.split('.')[0]  #take off \".txt\"\n",
    "        classNumStr = int(fileStr.split('_')[0])\n",
    "        labels.append(classNumStr)\n",
    "        dataMat[i,:] = img2vector('%s/%s' % (dataDir, fileNameStr))\n",
    "    return dataMat, labels"
   ]
  },
  {
   "cell_type": "markdown",
   "metadata": {},
   "source": [
    "Load the dataset first."
   ]
  },
  {
   "cell_type": "code",
   "execution_count": null,
   "metadata": {},
   "outputs": [],
   "source": [
    "trainMat, trainLabels = loadDigits('trainingDigits') \n",
    "testMat, testLabels = loadDigits('testDigits') \n",
    "nTest = testMat.shape[0]  #number of testing data"
   ]
  },
  {
   "cell_type": "markdown",
   "metadata": {},
   "source": [
    "Exercise 3-1: complete the code for kNN classification"
   ]
  },
  {
   "cell_type": "code",
   "execution_count": null,
   "metadata": {
    "collapsed": true
   },
   "outputs": [],
   "source": [
    "def kNNclassify(inX, dataMat, labels, k):\n",
    "    dataSetSize = dataMat.shape[0]\n",
    "    \n",
    "    ### TODO:\n",
    "    # compute distance between inX to each data point\n",
    "    # distances: a vector (length='datasetSize') \n",
    "    #\n",
    "    \n",
    "    sortedDistIndicies = distances.argsort()  #sort in terms of distance (ascending)\n",
    "    classCount={}          \n",
    "    for i in range(k):\n",
    "        voteIlabel = labels[sortedDistIndicies[i]]\n",
    "        classCount[voteIlabel] = classCount.get(voteIlabel,0) + 1\n",
    "    sortedClassCount = sorted(classCount.items(), key=itemgetter(1), reverse=True)\n",
    "    return sortedClassCount[0][0]"
   ]
  },
  {
   "cell_type": "markdown",
   "metadata": {},
   "source": [
    "Then let's run kNN!"
   ]
  },
  {
   "cell_type": "code",
   "execution_count": null,
   "metadata": {},
   "outputs": [],
   "source": [
    "k=10   #k for kNN\n",
    "errorCount = 0.0\n",
    "for i in range(nTest):\n",
    "    classifierResult = kNNclassify(testMat[i,:], trainMat, trainLabels, k)\n",
    "    print(\"the classifier came back with: %d, the real answer is: %s\" % (classifierResult, testLabels[i]))\n",
    "    if (classifierResult != testLabels[i]): errorCount += 1.0\n",
    "print(\"\\nthe total number of errors is: %d\" % errorCount)\n",
    "print(\"\\nthe total error rate is: %f\" % (errorCount/float(nTest)))"
   ]
  },
  {
   "cell_type": "markdown",
   "metadata": {},
   "source": [
    "Some utilities for text processing."
   ]
  },
  {
   "cell_type": "code",
   "execution_count": null,
   "metadata": {
    "collapsed": true
   },
   "outputs": [],
   "source": [
    "def textParse(bigString):    #input is big string, #output is word list\n",
    "    import re\n",
    "    listOfTokens = re.split(r'\\W*', bigString)\n",
    "    return [tok.lower() for tok in listOfTokens if len(tok) > 2]\n",
    "\n",
    "def createVocabList(dataSet):\n",
    "    vocabSet = set([])  #create empty set\n",
    "    for document in dataSet:\n",
    "        vocabSet = vocabSet | set(document) #union of the two sets\n",
    "    return list(vocabSet)\n",
    "\n",
    "def bagOfWords2VecMN(vocabList, inputSet):\n",
    "    returnVec = [0]*len(vocabList)\n",
    "    for word in inputSet:\n",
    "        if word in vocabList:\n",
    "            returnVec[vocabList.index(word)] += 1\n",
    "    return returnVec"
   ]
  },
  {
   "cell_type": "markdown",
   "metadata": {},
   "source": [
    "Prepare the dataset for spam classification."
   ]
  },
  {
   "cell_type": "code",
   "execution_count": null,
   "metadata": {},
   "outputs": [],
   "source": [
    "#load text data and label (1 for spam or 0 for not)\n",
    "docList=[]; classList = []; fullText =[]\n",
    "for i in range(1,26):\n",
    "    wordList = textParse(open('email/spam/%d.txt' % i).read())\n",
    "    docList.append(wordList)\n",
    "    fullText.extend(wordList)\n",
    "    classList.append(1)\n",
    "    wordList = textParse(open('email/ham/%d.txt' % i).read())\n",
    "    docList.append(wordList)\n",
    "    fullText.extend(wordList)\n",
    "    classList.append(0)\n",
    "\n",
    "#create vocabulary\n",
    "vocabList = createVocabList(docList)\n",
    "\n",
    "#create training & test set\n",
    "trainingSet = list(range(50)); testSet=[]           \n",
    "for i in range(10):  #randomly sample 10 examples for testing and rest for training\n",
    "    randIndex = int(np.random.uniform(0,len(trainingSet)))\n",
    "    testSet.append(trainingSet[randIndex])\n",
    "    del(trainingSet[randIndex])\n",
    "    \n",
    "#convert to bag-of-words matrix (and corresponding labels)\n",
    "trainMat=[]; trainClasses = []\n",
    "for docIndex in trainingSet:#train the classifier (get probs) trainNB0\n",
    "    trainMat.append(bagOfWords2VecMN(vocabList, docList[docIndex]))\n",
    "    trainClasses.append(classList[docIndex])"
   ]
  },
  {
   "cell_type": "markdown",
   "metadata": {},
   "source": [
    "Exercies 3-2: complete the code for Naive Bayes classification."
   ]
  },
  {
   "cell_type": "code",
   "execution_count": null,
   "metadata": {
    "collapsed": true
   },
   "outputs": [],
   "source": [
    "def trainNB(trainMatrix,trainCategory):\n",
    "    numTrainDocs = len(trainMatrix)\n",
    "    numWords = len(trainMatrix[0])\n",
    "    pClass1 = sum(trainCategory)/float(numTrainDocs)   #remember that we put one for spam\n",
    "    p0Num = np.ones(numWords); p1Num = np.ones(numWords)      #change to ones() \n",
    "    p0Denom = 2.0; p1Denom = 2.0                        #change to 2.0 (avoiding zero)\n",
    "    for i in range(numTrainDocs):\n",
    "        if trainCategory[i] == 1:\n",
    "            #remember that trainMatrix[i] is a bag-of-words vector\n",
    "            p1Num += trainMatrix[i]  \n",
    "            p1Denom += sum(trainMatrix[i])\n",
    "        else:\n",
    "            ### TODO: \n",
    "            # p0Num \n",
    "            # p0Denom\n",
    "    p1Vect = np.log(p1Num/p1Denom)          #change to log() to avoid multiplication of small values (probabilities)\n",
    "    p0Vect = np.log(p0Num/p0Denom)          #change to log()\n",
    "    return p0Vect,p1Vect,pClass1\n",
    "\n",
    "#p1Vect: vector of posterior probability of each word for class 1\n",
    "#p0Vect: vector of posterior probability of each word for class 0\n",
    "#pClass1: prior probability for class 1 (spam)"
   ]
  },
  {
   "cell_type": "code",
   "execution_count": null,
   "metadata": {
    "collapsed": true
   },
   "outputs": [],
   "source": [
    "def classifyNB(vec2Classify, p0Vect, p1Vect, pClass1):\n",
    "    p1 = sum(vec2Classify * p1Vect) + np.log(pClass1)    #element-wise mult \n",
    "    ###TODO:\n",
    "    #p0 = ... #log probability for class 0    \n",
    "    if p1 > p0:\n",
    "        return 1\n",
    "    else: \n",
    "        return 0"
   ]
  },
  {
   "cell_type": "markdown",
   "metadata": {},
   "source": [
    "Prepare a Naive Bayes classifier."
   ]
  },
  {
   "cell_type": "code",
   "execution_count": null,
   "metadata": {
    "collapsed": true
   },
   "outputs": [],
   "source": [
    "p0V,p1V,pSpam = trainNB(np.array(trainMat),np.array(trainClasses))"
   ]
  },
  {
   "cell_type": "markdown",
   "metadata": {},
   "source": [
    "Now we are ready to run the classifier."
   ]
  },
  {
   "cell_type": "code",
   "execution_count": null,
   "metadata": {},
   "outputs": [],
   "source": [
    "errorCount = 0\n",
    "for docIndex in testSet:        #classify the remaining items\n",
    "    wordVector = bagOfWords2VecMN(vocabList, docList[docIndex]) #a testing example\n",
    "    if classifyNB(np.array(wordVector),p0V,p1V,pSpam) != classList[docIndex]:\n",
    "        errorCount += 1\n",
    "        print(\"classification error\",docList[docIndex])\n",
    "print('the error rate is: ',float(errorCount)/len(testSet))"
   ]
  },
  {
   "cell_type": "code",
   "execution_count": null,
   "metadata": {
    "collapsed": true
   },
   "outputs": [],
   "source": []
  }
 ],
 "metadata": {
  "kernelspec": {
   "display_name": "Python 3",
   "language": "python",
   "name": "python3"
  },
  "language_info": {
   "codemirror_mode": {
    "name": "ipython",
    "version": 3
   },
   "file_extension": ".py",
   "mimetype": "text/x-python",
   "name": "python",
   "nbconvert_exporter": "python",
   "pygments_lexer": "ipython3",
   "version": "3.6.2"
  }
 },
 "nbformat": 4,
 "nbformat_minor": 2
}
