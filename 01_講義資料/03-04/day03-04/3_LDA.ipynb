{
 "cells": [
  {
   "cell_type": "markdown",
   "metadata": {},
   "source": [
    "Modified code from Chapter 10 of Machine Learning: An Algorithmic Perspective by Stephen Marsland (http://seat.massey.ac.nz/personal/s.r.marsland/MLBook.html)"
   ]
  },
  {
   "cell_type": "code",
   "execution_count": null,
   "metadata": {},
   "outputs": [],
   "source": [
    "import numpy as np\n",
    "import scipy.linalg as la\n",
    "import matplotlib.pyplot as plt"
   ]
  },
  {
   "cell_type": "markdown",
   "metadata": {},
   "source": [
    "Exercise 1: Complete the code for LDA"
   ]
  },
  {
   "cell_type": "code",
   "execution_count": null,
   "metadata": {},
   "outputs": [],
   "source": [
    "def LDA(data,labels,redDim): #redDim should be at most the number of classes - 1\n",
    "    # Centre data\n",
    "    data -= data.mean(axis=1).reshape(-1,1)\n",
    "    nDim = data.shape[0]\n",
    "    nData = data.shape[1]\n",
    "    \n",
    "    Sw = np.zeros((nDim,nDim)) #within-class covariance matrix\n",
    "    Sb = np.zeros((nDim,nDim)) #between-class covariance matrix\n",
    "\n",
    "    ### TODO: compute Sw and Sb\n",
    "    \n",
    "    # Compute eigenvalues, eigenvectors and sort into order\n",
    "    #evals,evecs = linalg.eig(np.dot(linalg.pinv(Sw),sqrt(Sb)))  #this is a bad way!\n",
    "    evals,evecs = la.eig(Sw,Sb)\n",
    "    indices = np.argsort(evals)\n",
    "    indices = indices[::-1]\n",
    "    evecs = evecs[:,indices]\n",
    "    evals = evals[indices]\n",
    "    w = evecs[:,:redDim]\n",
    "    \n",
    "    SwZ = np.diag(np.dot(w.T, Sw).dot(w))  #normalized in terms of with-class variance (this is VERY important!)\n",
    "    w = np.dot(w, np.diag(np.reciprocal(np.sqrt(SwZ))))\n",
    "    #print evals, w\n",
    "    \n",
    "    newData = np.dot(w.T,data)\n",
    "    return newData,w"
   ]
  },
  {
   "cell_type": "code",
   "execution_count": null,
   "metadata": {},
   "outputs": [],
   "source": [
    "nPerClass=100\n",
    "data1 = np.dot([[1,-0.2],[-0.2,1]],np.random.randn(2,nPerClass))+[[2],[1]]\n",
    "data2 = np.dot([[1,-0.5],[-0.5,1]],np.random.randn(2,nPerClass))+[[-2],[0]]\n",
    "data = np.concatenate((data1,data2),axis=1)\n",
    "labels = np.concatenate((np.zeros(nPerClass),np.ones(nPerClass)))\n",
    "newData,w = LDA(data,labels,1)\n",
    "\n",
    "plt.plot(data1[0,:],data1[1,:],'o',color='red')\n",
    "plt.plot(data2[0,:],data2[1,:],'o',color='blue')\n",
    "plt.quiver(5, 5, w[0,0],w[1,0],angles='xy',scale_units='xy', scale=0.01) \n",
    "plt.show()"
   ]
  },
  {
   "cell_type": "markdown",
   "metadata": {},
   "source": [
    "No, compare it with PCA."
   ]
  },
  {
   "cell_type": "code",
   "execution_count": null,
   "metadata": {},
   "outputs": [],
   "source": [
    "def PCA(X): #we assume that sample is given in column-wise manner\n",
    "    covMat = np.cov(X)\n",
    "    eigVals,eigVects = np.linalg.eig(covMat)\n",
    "    eigValInd = np.argsort(-eigVals)        #sort in descending order\n",
    "    eigVects = eigVects[:,eigValInd]       #reorganize eigen vectors \n",
    "    return eigVals, eigVects\n",
    "\n",
    "eigVals, eigVects = PCA(data)\n",
    "plt.plot(data1[0,:],data1[1,:],'o',color='red')\n",
    "plt.plot(data2[0,:],data2[1,:],'o',color='blue')\n",
    "plt.quiver(-5, 0, eigVects[0,0],eigVects[1,0],angles='xy',scale_units='xy', scale=0.01) #PCA axis\n",
    "plt.quiver(5, 5, w[0,0],w[1,0],angles='xy',scale_units='xy', scale=0.01) #LDA axis\n",
    "plt.show()"
   ]
  },
  {
   "cell_type": "code",
   "execution_count": null,
   "metadata": {
    "collapsed": true
   },
   "outputs": [],
   "source": []
  }
 ],
 "metadata": {
  "kernelspec": {
   "display_name": "Python 3",
   "language": "python",
   "name": "python3"
  },
  "language_info": {
   "codemirror_mode": {
    "name": "ipython",
    "version": 3
   },
   "file_extension": ".py",
   "mimetype": "text/x-python",
   "name": "python",
   "nbconvert_exporter": "python",
   "pygments_lexer": "ipython3",
   "version": "3.6.2"
  }
 },
 "nbformat": 4,
 "nbformat_minor": 2
}
