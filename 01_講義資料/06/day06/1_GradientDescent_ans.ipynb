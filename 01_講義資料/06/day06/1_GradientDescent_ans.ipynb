{
 "cells": [
  {
   "cell_type": "code",
   "execution_count": 1,
   "metadata": {
    "collapsed": true
   },
   "outputs": [],
   "source": [
    "import numpy as np\n",
    "import pandas as pd\n",
    "import matplotlib.pyplot as plt"
   ]
  },
  {
   "cell_type": "code",
   "execution_count": 2,
   "metadata": {
    "collapsed": true
   },
   "outputs": [],
   "source": [
    "def loadData(filename, sep, header): #data loader using pandas\n",
    "    df = pd.read_table(filename,sep=sep,header=header)\n",
    "    df = df.fillna(df.mean()) #set NaN values to mean\n",
    "    return np.array(df) #convert to a numpy array (matrix)"
   ]
  },
  {
   "cell_type": "code",
   "execution_count": 3,
   "metadata": {
    "scrolled": true
   },
   "outputs": [
    {
     "data": {
      "image/png": "[encoded data removed]",
      "text/plain": [
       "<matplotlib.figure.Figure at 0x7f0a148d4fd0>"
      ]
     },
     "metadata": {},
     "output_type": "display_data"
    }
   ],
   "source": [
    "data = loadData('ex0.txt',sep='\\t',header=None) #delimiter is Tab, no header\n",
    "data = np.mat(data) #today, we utilize matrix type\n",
    "xMat = data[:,0].T  #column-wise\n",
    "yMat = data[:,1]\n",
    "fig = plt.figure()\n",
    "plt.scatter(xMat.A[0], yMat.T.A[0], s=10)\n",
    "plt.show()"
   ]
  },
  {
   "cell_type": "markdown",
   "metadata": {},
   "source": [
    "Exercise 1: implement Ridge regression with gradient descent"
   ]
  },
  {
   "cell_type": "code",
   "execution_count": 4,
   "metadata": {
    "collapsed": true
   },
   "outputs": [],
   "source": [
    "def appendBias(X):\n",
    "    return np.vstack((X, np.ones(X.shape[1])))\n",
    "\n",
    "def ridgeRegres(xArr,yArr, gamma):\n",
    "    xMat = np.mat(xArr)\n",
    "    yMat = np.mat(yArr)\n",
    "    d,n = xMat.shape\n",
    "    maxEpochs = 1000\n",
    "    alpha = 0.0001\n",
    "\n",
    "    ws = np.random.randn(d,1)   #initialize weights\n",
    "    for k in range(maxEpochs):\n",
    "        yHat = xMat.T*ws\n",
    "        error = (yArr - yHat)     \n",
    "        ws = ws - (- alpha * xMat * error + gamma*ws) \n",
    "        \n",
    "        ### This is a BAD example! Use matrix operation.\n",
    "        #diffLoss = np.mat(np.zeros((d,1)))\n",
    "        #for i in range(n):\n",
    "        #    diffLoss += float(yArr[i] - yHat[i])*xMat[:,i]\n",
    "        #ws = ws + alpha * diffLoss - gamma*ws  #matrix mult\n",
    "        \n",
    "    return ws"
   ]
  },
  {
   "cell_type": "code",
   "execution_count": 5,
   "metadata": {},
   "outputs": [
    {
     "name": "stdout",
     "output_type": "stream",
     "text": [
      "[[ 1.78700849]\n",
      " [ 2.94425528]]\n"
     ]
    }
   ],
   "source": [
    "xMat_b = appendBias(xMat)  #xMat with bias \n",
    "w = ridgeRegres(xMat_b,yMat, 0.0001)\n",
    "print(w)"
   ]
  },
  {
   "cell_type": "markdown",
   "metadata": {},
   "source": [
    "Exercise 2: implement LASSO with coordinate gradient descent"
   ]
  },
  {
   "cell_type": "code",
   "execution_count": 6,
   "metadata": {
    "collapsed": true
   },
   "outputs": [],
   "source": [
    "data = loadData('abalone.txt',sep='\\t', header=None)\n",
    "xMat = np.mat(data[:,:8]).T\n",
    "yMat = np.mat(data[:,8]).T\n",
    "xMat_b = appendBias(xMat)  #xMat with bias "
   ]
  },
  {
   "cell_type": "code",
   "execution_count": 7,
   "metadata": {
    "collapsed": true
   },
   "outputs": [],
   "source": [
    "def lassoRegres(xArr,yArr, gamma):\n",
    "    xMat = np.mat(xArr)\n",
    "    yMat = np.mat(yArr)\n",
    "    d,n = xMat.shape\n",
    "    maxEpochs = 500\n",
    "\n",
    "    ws = np.zeros((d,1))\n",
    "    a = 2*np.multiply(xMat,xMat).sum(1)\n",
    "    for k in range(maxEpochs):\n",
    "        for j in range(d):\n",
    "            ws[j,0]=0.0\n",
    "            yHat_j = xMat.T*ws\n",
    "            c = 2*xMat[j,:]*(yArr - yHat_j)     \n",
    "            if c < -gamma:\n",
    "                ws[j,0] = (c+gamma)/a[j,0]\n",
    "            elif c > gamma:\n",
    "                ws[j,0] = (c-gamma)/a[j,0]\n",
    "            else:\n",
    "                ws[j,0] = 0.0          \n",
    "    return ws"
   ]
  },
  {
   "cell_type": "code",
   "execution_count": 8,
   "metadata": {},
   "outputs": [
    {
     "name": "stdout",
     "output_type": "stream",
     "text": [
      "[[  0.05006436]\n",
      " [ 16.4181627 ]\n",
      " [  3.84123607]\n",
      " [  0.        ]\n",
      " [  2.4361154 ]\n",
      " [-14.01954342]\n",
      " [  0.        ]\n",
      " [ 11.29314237]]\n"
     ]
    }
   ],
   "source": [
    "w = lassoRegres(xMat,yMat, 100)\n",
    "print(w)"
   ]
  },
  {
   "cell_type": "markdown",
   "metadata": {},
   "source": [
    "Exercise 3: implement logistic regression"
   ]
  },
  {
   "cell_type": "code",
   "execution_count": 9,
   "metadata": {
    "collapsed": true
   },
   "outputs": [],
   "source": [
    "def sigmoid(inX):\n",
    "    return 1.0/(1+np.exp(-inX))\n",
    "\n",
    "def logRegres(xArr, labels):\n",
    "    xMat = np.mat(xArr)             #convert to NumPy matrix\n",
    "    lMat = np.mat(labels)         #convert to NumPy matrix\n",
    "    d,n = xMat.shape\n",
    "    alpha = 0.001\n",
    "    maxEpochs = 1000  \n",
    "    weights = np.random.randn(d,1)\n",
    "    for k in range(maxEpochs):  \n",
    "        h = sigmoid(xMat.T*weights)     \n",
    "        error = (lMat - h)  \n",
    "        weights = weights + alpha * xMat * error   \n",
    "    return weights\n"
   ]
  },
  {
   "cell_type": "code",
   "execution_count": 10,
   "metadata": {
    "collapsed": true
   },
   "outputs": [],
   "source": [
    "data = loadData('testSet.txt',sep='\\t', header=None)\n",
    "xMat = np.mat(data[:,:2]).T\n",
    "lMat = np.mat(data[:,2]).T\n",
    "xMat_b = appendBias(xMat)\n",
    "                   \n",
    "weights=logRegres(xMat_b,lMat)"
   ]
  },
  {
   "cell_type": "code",
   "execution_count": 11,
   "metadata": {
    "collapsed": true
   },
   "outputs": [],
   "source": [
    "# We assume numpy.matrix imputs. xMat(data): 2 x n, lMat(label):n x 1\n",
    "# The last element of weights should correspond to the bias term.\n",
    "\n",
    "def plotBestFit(weights,xMat,lMat): \n",
    "    lArr = lMat.flatten().A[0]\n",
    "    w = weights.flatten().A[0]\n",
    "    n = xMat.shape[1] \n",
    "    xcord1 = xMat[0,np.where(lArr==1)].A[0]\n",
    "    ycord1 = xMat[1,np.where(lArr==1)].A[0]\n",
    "    xcord0 = xMat[0,np.where(lArr==0)].A[0]\n",
    "    ycord0 = xMat[1,np.where(lArr==0)].A[0]\n",
    "\n",
    "    fig = plt.figure()\n",
    "    ax = fig.add_subplot(111)\n",
    "    ax.scatter(xcord1, ycord1, s=30, c='red', marker='s')\n",
    "    ax.scatter(xcord0, ycord0, s=30, c='green')\n",
    "    x = np.arange(-3.0, 3.0, 0.1)\n",
    "    y = (-w[2]-w[0]*x)/w[1]\n",
    "    ax.plot(x, y)\n",
    "    plt.xlabel('X1'); plt.ylabel('X2');\n",
    "    plt.show()"
   ]
  },
  {
   "cell_type": "code",
   "execution_count": 12,
   "metadata": {
    "scrolled": true
   },
   "outputs": [
    {
     "data": {
      "image/png": "[encoded data removed]",
      "text/plain": [
       "<matplotlib.figure.Figure at 0x7f0a1010d668>"
      ]
     },
     "metadata": {},
     "output_type": "display_data"
    }
   ],
   "source": [
    "plotBestFit(weights,xMat,lMat)"
   ]
  },
  {
   "cell_type": "code",
   "execution_count": null,
   "metadata": {
    "collapsed": true
   },
   "outputs": [],
   "source": []
  }
 ],
 "metadata": {
  "kernelspec": {
   "display_name": "Python 3",
   "language": "python",
   "name": "python3"
  },
  "language_info": {
   "codemirror_mode": {
    "name": "ipython",
    "version": 3
   },
   "file_extension": ".py",
   "mimetype": "text/x-python",
   "name": "python",
   "nbconvert_exporter": "python",
   "pygments_lexer": "ipython3",
   "version": "3.6.2"
  }
 },
 "nbformat": 4,
 "nbformat_minor": 2
}
