{
 "cells": [
  {
   "cell_type": "code",
   "execution_count": null,
   "metadata": {
    "collapsed": true
   },
   "outputs": [],
   "source": [
    "import numpy as np\n",
    "import pandas as pd\n",
    "import matplotlib.pyplot as plt"
   ]
  },
  {
   "cell_type": "code",
   "execution_count": null,
   "metadata": {
    "collapsed": true
   },
   "outputs": [],
   "source": [
    "def loadData(filename, sep, header): #data loader using pandas\n",
    "    df = pd.read_table(filename,sep=sep,header=header)\n",
    "    df = df.fillna(df.mean()) #set NaN values to mean\n",
    "    return np.array(df) #convert to a numpy array (matrix)"
   ]
  },
  {
   "cell_type": "code",
   "execution_count": null,
   "metadata": {},
   "outputs": [],
   "source": [
    "data = loadData('ex0.txt',sep='\\t',header=None) #delimiter is Tab, no header\n",
    "data = np.mat(data) #today, we utilize matrix type\n",
    "xMat = data[:,0].T  #column-wise\n",
    "yMat = data[:,1]\n",
    "fig = plt.figure()\n",
    "plt.scatter(xMat.A[0], yMat.T.A[0], s=10)\n",
    "plt.show()"
   ]
  },
  {
   "cell_type": "markdown",
   "metadata": {},
   "source": [
    "Exercise 1: Complete the code for standard linear regression"
   ]
  },
  {
   "cell_type": "code",
   "execution_count": null,
   "metadata": {
    "collapsed": true
   },
   "outputs": [],
   "source": [
    "def appendBias(X):\n",
    "    ##TODO: append ones to the data matrix to use as the bias term. (Each data x -> (x^t 1)^t )  \n",
    "\n",
    "def standRegres(xArr,yArr):\n",
    "    xMat = np.mat(xArr)\n",
    "    yMat = np.mat(yArr)\n",
    "    \n",
    "    ##TODO: implment the core algorithm of linear regression.\n",
    "    \n",
    "    return ws  #return the weight vector"
   ]
  },
  {
   "cell_type": "code",
   "execution_count": null,
   "metadata": {
    "collapsed": true
   },
   "outputs": [],
   "source": [
    "xMat_b = appendBias(xMat)  #xMat with bias \n",
    "w = standRegres(xMat_b,yMat)\n",
    "print(w)"
   ]
  },
  {
   "cell_type": "code",
   "execution_count": null,
   "metadata": {
    "collapsed": true
   },
   "outputs": [],
   "source": [
    "##TODO: project the data xMat using the obtained weight.\n",
    "#yHat = ..."
   ]
  },
  {
   "cell_type": "code",
   "execution_count": null,
   "metadata": {
    "collapsed": true,
    "scrolled": true
   },
   "outputs": [],
   "source": [
    "fig = plt.figure()\n",
    "ax = fig.add_subplot(111)\n",
    "ax.scatter(xMat.flatten().A[0], yMat.T.flatten().A[0], s=10)\n",
    "ax.plot(xMat.flatten().A[0], yHat.T.flatten().A[0], color='red')\n",
    "plt.show()"
   ]
  },
  {
   "cell_type": "code",
   "execution_count": null,
   "metadata": {},
   "outputs": [],
   "source": [
    "#Bonus: comprare the time for inverse() and solve() (Ax=b)\n",
    "\n",
    "import time\n",
    "\n",
    "ndim=2000\n",
    "A = np.mat(np.random.randn(ndim,ndim))\n",
    "b = np.mat(np.random.randn(ndim,1))\n",
    "\n",
    "start = time.time()\n",
    "x1 = A.I*b\n",
    "elapsed_time = time.time() - start\n",
    "print (\"inverse:{0}\".format(elapsed_time) + \"[sec]\")\n",
    "\n",
    "start = time.time()\n",
    "x2 = np.linalg.solve(A,b)\n",
    "elapsed_time = time.time() - start\n",
    "print (\"solve:{0}\".format(elapsed_time) + \"[sec]\")"
   ]
  },
  {
   "cell_type": "markdown",
   "metadata": {},
   "source": [
    "Exercise 2: Complete the code for locally weighted linear regression"
   ]
  },
  {
   "cell_type": "code",
   "execution_count": null,
   "metadata": {
    "collapsed": true
   },
   "outputs": [],
   "source": [
    "def locallyWeightedLR(testPoint,xArr,yArr,k=1.0):\n",
    "    testPoint = np.mat(testPoint)\n",
    "    xMat = np.mat(xArr)\n",
    "    yMat = np.mat(yArr)\n",
    "    m = np.shape(xMat)[1]\n",
    "    weights = np.mat(np.eye((m)))\n",
    "    \n",
    "    ##TODO: compute the weight matrix\n",
    "    \n",
    "    \n",
    "    xTx = xMat * weights * xMat.T\n",
    "    if np.linalg.det(xTx) == 0.0:\n",
    "        print(\"This matrix is singular, cannot do inverse\")\n",
    "        return\n",
    "    ws = np.linalg.solve(xTx, (xMat * weights * yMat))\n",
    "    return ws"
   ]
  },
  {
   "cell_type": "code",
   "execution_count": null,
   "metadata": {
    "collapsed": true
   },
   "outputs": [],
   "source": [
    "locallyWeightedLR(xMat_b[:,0],xMat_b,yMat,k=0.01) #test different value of k"
   ]
  },
  {
   "cell_type": "code",
   "execution_count": null,
   "metadata": {
    "collapsed": true
   },
   "outputs": [],
   "source": [
    "def lwLRTest(testArr,xArr,yArr,k=1.0):  #loops over all the data points and applies lwlr to each one\n",
    "    m = np.shape(testArr)[1]\n",
    "    testArr_b = appendBias(testArr)\n",
    "    xArr_b = appendBias(xArr)\n",
    "    yHat = np.zeros(m)\n",
    "    for i in range(m):\n",
    "        w = locallyWeightedLR(testArr_b[:,i],xArr_b,yArr,k)\n",
    "        yHat[i] = w.T * np.mat(testArr_b[:,i])\n",
    "    return yHat"
   ]
  },
  {
   "cell_type": "code",
   "execution_count": null,
   "metadata": {
    "collapsed": true,
    "scrolled": true
   },
   "outputs": [],
   "source": [
    "yHat = lwLRTest(xMat,xMat,yMat,k=0.005)  "
   ]
  },
  {
   "cell_type": "code",
   "execution_count": null,
   "metadata": {
    "collapsed": true,
    "scrolled": false
   },
   "outputs": [],
   "source": [
    "fig = plt.figure()\n",
    "ax = fig.add_subplot(111)\n",
    "srtInd = xMat.A[0].argsort(0)\n",
    "xSort = xMat[:,srtInd]\n",
    "ax.plot(xSort.flatten().A[0],yHat[srtInd])\n",
    "ax.scatter(xMat.flatten().A[0], yMat.T.flatten().A[0], s=5, c='red')\n",
    "plt.show()\n"
   ]
  },
  {
   "cell_type": "markdown",
   "metadata": {},
   "source": [
    "Now, let's consider generalization error."
   ]
  },
  {
   "cell_type": "code",
   "execution_count": null,
   "metadata": {
    "collapsed": true
   },
   "outputs": [],
   "source": [
    "def rssError(yArr,yHatArr): #yArr and yHatArr both need to be arrays\n",
    "    return ((yArr-yHatArr)**2).sum()"
   ]
  },
  {
   "cell_type": "markdown",
   "metadata": {},
   "source": [
    "First, evaluate error on training data."
   ]
  },
  {
   "cell_type": "code",
   "execution_count": null,
   "metadata": {
    "collapsed": true,
    "scrolled": true
   },
   "outputs": [],
   "source": [
    "data = loadData('abalone.txt',sep='\\t', header=None)\n",
    "xMat = np.mat(data[:,:8]).T\n",
    "yMat = np.mat(data[:,8]).T\n",
    "\n",
    "for k in [10,1,.5]:\n",
    "    yHat=lwLRTest(xMat[:,:100],xMat[:,:100],yMat[:100],k)\n",
    "    print('k={0}: {1}'.format(k, rssError(yMat[:100].T.A[0],yHat)))\n"
   ]
  },
  {
   "cell_type": "markdown",
   "metadata": {},
   "source": [
    "Ok, so how about testing data?"
   ]
  },
  {
   "cell_type": "code",
   "execution_count": null,
   "metadata": {
    "collapsed": true
   },
   "outputs": [],
   "source": [
    "for k in [10,1,.5]:\n",
    "    yHat=lwLRTest(xMat[:,100:200],xMat[:,:100],yMat[:100],k)    #テストデータを別にとる\n",
    "    print('k={0}: {1}'.format(k, rssError(yMat[100:200].T.A[0],yHat)))\n"
   ]
  },
  {
   "cell_type": "markdown",
   "metadata": {},
   "source": [
    "Exercise 3: Complete the code for Ridge regression"
   ]
  },
  {
   "cell_type": "code",
   "execution_count": null,
   "metadata": {
    "collapsed": true
   },
   "outputs": [],
   "source": [
    "##TODO: implement Ridge regression.\n",
    "# You can copy the code for linear regression. Only one line should be changed.\n",
    "\n",
    "def ridgeRegres(xArr,yArr, gamma):\n",
    "    \n",
    "    return ws"
   ]
  },
  {
   "cell_type": "code",
   "execution_count": null,
   "metadata": {
    "collapsed": true
   },
   "outputs": [],
   "source": [
    "w=standRegres(xMat_b[:,:10],yMat[:10])\n",
    "yHat=w.T*xMat_b[:,100:200]\n",
    "print('linear regression: {0}'.format(rssError(yMat[100:200].T.A[0],yHat.T.A[0])))"
   ]
  },
  {
   "cell_type": "code",
   "execution_count": null,
   "metadata": {
    "collapsed": true
   },
   "outputs": [],
   "source": [
    "for gamma in [.001, .01, .1, 1,10,100]:\n",
    "    w=ridgeRegres(xMat_b[:,:10],yMat[:10],gamma)\n",
    "    yHat=w.T*xMat_b[:,100:200]\n",
    "    print('Ridge regression, gamma={0}: {1}'.format(gamma, rssError(yMat[100:200].T.A[0],yHat.T.A[0])))\n"
   ]
  },
  {
   "cell_type": "code",
   "execution_count": null,
   "metadata": {
    "collapsed": true
   },
   "outputs": [],
   "source": []
  }
 ],
 "metadata": {
  "kernelspec": {
   "display_name": "Python 3",
   "language": "python",
   "name": "python3"
  },
  "language_info": {
   "codemirror_mode": {
    "name": "ipython",
    "version": 3
   },
   "file_extension": ".py",
   "mimetype": "text/x-python",
   "name": "python",
   "nbconvert_exporter": "python",
   "pygments_lexer": "ipython3",
   "version": "3.6.2"
  }
 },
 "nbformat": 4,
 "nbformat_minor": 2
}
